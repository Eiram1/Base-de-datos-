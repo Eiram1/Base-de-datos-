{
  "nbformat": 4,
  "nbformat_minor": 0,
  "metadata": {
    "colab": {
      "name": "Tarea 2.ipynb",
      "provenance": [],
      "authorship_tag": "ABX9TyMdnTucxcbhnso6NCd2OX1I",
      "include_colab_link": true
    },
    "kernelspec": {
      "name": "python3",
      "display_name": "Python 3"
    },
    "language_info": {
      "name": "python"
    }
  },
  "cells": [
    {
      "cell_type": "markdown",
      "metadata": {
        "id": "view-in-github",
        "colab_type": "text"
      },
      "source": [
        "<a href=\"https://colab.research.google.com/github/Eiram1/Base-de-datos-/blob/master/Tarea_2.ipynb\" target=\"_parent\"><img src=\"https://colab.research.google.com/assets/colab-badge.svg\" alt=\"Open In Colab\"/></a>"
      ]
    },
    {
      "cell_type": "code",
      "metadata": {
        "id": "INVQTwobTGLG"
      },
      "source": [
        "def sumarLista(lista):\n",
        "  suma = 0\n",
        "  for num in lista:\n",
        "    suma += num\n",
        "  return suma\n",
        "\n",
        "num = [5, 4, 6, 20, 41, 2]\n",
        "print(sumarLista(num))\n"
      ],
      "execution_count": null,
      "outputs": []
    },
    {
      "cell_type": "code",
      "metadata": {
        "id": "PybMo4t6SkqX",
        "colab": {
          "base_uri": "https://localhost:8080/"
        },
        "outputId": "8d0e63af-4bdf-4ed3-fe69-0a22d4becb03"
      },
      "source": [
        "def printRev( n ):\n",
        "  if n > -1:\n",
        "    print( n )\n",
        "    printRev( n - 1) \n",
        "  if n == 0:\n",
        "    print(\"BOOMMMMMMMM!\")\n",
        "    \n",
        "n = 3\n",
        "printRev( n ) "
      ],
      "execution_count": 338,
      "outputs": [
        {
          "output_type": "stream",
          "name": "stdout",
          "text": [
            "3\n",
            "2\n",
            "1\n",
            "0\n",
            "BOOMMMMMMMM!\n"
          ]
        }
      ]
    },
    {
      "cell_type": "code",
      "metadata": {
        "colab": {
          "base_uri": "https://localhost:8080/"
        },
        "id": "hiKNCHpF8Z7K",
        "outputId": "34884237-084a-4e48-8ff9-46e767f2e2a6"
      },
      "source": [
        "def num(lista):\n",
        "  if len(lista) == i + 1:\n",
        "    return lista\n",
        "  else:\n",
        "    del lista[0]\n",
        "    return num(lista)\n",
        "\n",
        "lista = [7,20,4,13,54]\n",
        "lista2 = list(lista)\n",
        "p = int(len(lista))\n",
        "r = int((p / 2))   \n",
        "i = int((round(r,0))) \n",
        "\n",
        "if r > len(lista):\n",
        "  i = i + 1\n",
        "else:\n",
        "  i = i - 1\n",
        "\n",
        "num(lista)\n",
        "\n",
        "if lista[0] in lista2:\n",
        "  del lista2[i]\n",
        "print(lista2)\n",
        "print(r)"
      ],
      "execution_count": 493,
      "outputs": [
        {
          "output_type": "stream",
          "name": "stdout",
          "text": [
            "[7, 4, 13, 54]\n",
            "2\n"
          ]
        }
      ]
    }
  ]
}