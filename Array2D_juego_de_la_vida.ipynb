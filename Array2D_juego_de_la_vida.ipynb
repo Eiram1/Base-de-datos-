{
  "nbformat": 4,
  "nbformat_minor": 0,
  "metadata": {
    "colab": {
      "name": "Array2D juego de la vida.ipynb",
      "provenance": [],
      "collapsed_sections": [],
      "authorship_tag": "ABX9TyOAQPkxc0dJjBAbZs/DVkR5",
      "include_colab_link": true
    },
    "kernelspec": {
      "name": "python3",
      "display_name": "Python 3"
    },
    "language_info": {
      "name": "python"
    }
  },
  "cells": [
    {
      "cell_type": "markdown",
      "metadata": {
        "id": "view-in-github",
        "colab_type": "text"
      },
      "source": [
        "<a href=\"https://colab.research.google.com/github/Eiram1/Estructura-de-datos-/blob/master/Array2D_juego_de_la_vida.ipynb\" target=\"_parent\"><img src=\"https://colab.research.google.com/assets/colab-badge.svg\" alt=\"Open In Colab\"/></a>"
      ]
    },
    {
      "cell_type": "code",
      "metadata": {
        "id": "7-uri78T9FYz"
      },
      "source": [
        "class Array2D():\n",
        "  def __init__(self, ren, col):\n",
        "    self.__columnas = col\n",
        "    self.__renglones = ren\n",
        "    self.__data = [[ 0 for i in range(col)]for i in range (ren)]\n",
        "\n",
        "  def to_string(self):\n",
        "    self.__data\n",
        "    for i in range(self.__renglones):\n",
        "      print(self.__data[i])\n",
        "\n",
        "  def clear(self, dato):\n",
        "    for i in range(self.__renglones):\n",
        "      for x in range(self.__columnas):\n",
        "        self.__data[i][x] = dato\n",
        "\n",
        "  def get_row_size(self):\n",
        "    return self.__renglones\n",
        "\n",
        "  def get_col_size(self):\n",
        "    return self.__columnas\n",
        "  \n",
        "  def set_item(self,ren,col,dato):\n",
        "    self.__data[ren][col] = dato\n",
        "\n",
        "  def get_item(self,ren,col):\n",
        "    return self.__data[ren][col]"
      ],
      "execution_count": null,
      "outputs": []
    },
    {
      "cell_type": "code",
      "metadata": {
        "colab": {
          "base_uri": "https://localhost:8080/"
        },
        "id": "PPJ0BEWo-mPV",
        "outputId": "69f6ff42-a7a2-4d72-933e-c329c857d946"
      },
      "source": [
        "tablero = Array2D( 6 , 5 )\n",
        "tablero.to_string()\n",
        "tablero.clear(\"M\")\n",
        "print()\n",
        "print(\"Población inicial\")\n",
        "print()\n",
        "tablero.to_string()\n",
        "print()\n",
        "print(\"Camboiar el estado de una cellula\")\n",
        "poblacion_inicial = [ ( 2, 2 ), ( 3, 1 ), ( 3, 2 ), ( 3, 3 ) ]\n",
        "for par in poblacion_inicial:\n",
        "  tablero.set_item( par[0], par[1], 'V' )\n",
        "\n",
        "tablero.to_string()\n",
        "\n",
        "print(tablero.get_col_size())\n",
        "print(tablero.get_row_size())\n",
        "\n",
        "celula = tablero.get_item(2,1)\n",
        "print(celula)\n",
        "\n",
        "celula = tablero.get_item(2,2)\n",
        "print(celula)\n",
        "\n",
        "#ESTO NO SE DEBE HACER, PORQUE ES DIFICIL DE DARLE MANTENIMIENTO\n"
      ],
      "execution_count": null,
      "outputs": [
        {
          "output_type": "stream",
          "name": "stdout",
          "text": [
            "[[0, 0, 0, 0, 0], [0, 0, 0, 0, 0], [0, 0, 0, 0, 0], [0, 0, 0, 0, 0], [0, 0, 0, 0, 0], [0, 0, 0, 0, 0]]\n",
            "[0, 0, 0, 0, 0]\n",
            "[0, 0, 0, 0, 0]\n",
            "[0, 0, 0, 0, 0]\n",
            "[0, 0, 0, 0, 0]\n",
            "[0, 0, 0, 0, 0]\n",
            "[0, 0, 0, 0, 0]\n",
            "\n",
            "Población inicial\n",
            "\n",
            "[['M', 'M', 'M', 'M', 'M'], ['M', 'M', 'M', 'M', 'M'], ['M', 'M', 'M', 'M', 'M'], ['M', 'M', 'M', 'M', 'M'], ['M', 'M', 'M', 'M', 'M'], ['M', 'M', 'M', 'M', 'M']]\n",
            "['M', 'M', 'M', 'M', 'M']\n",
            "['M', 'M', 'M', 'M', 'M']\n",
            "['M', 'M', 'M', 'M', 'M']\n",
            "['M', 'M', 'M', 'M', 'M']\n",
            "['M', 'M', 'M', 'M', 'M']\n",
            "['M', 'M', 'M', 'M', 'M']\n",
            "\n",
            "Camboiar el estado de una cellula\n",
            "[['M', 'M', 'M', 'M', 'M'], ['M', 'M', 'M', 'M', 'M'], ['M', 'M', 'V', 'M', 'M'], ['M', 'V', 'V', 'V', 'M'], ['M', 'M', 'M', 'M', 'M'], ['M', 'M', 'M', 'M', 'M']]\n",
            "['M', 'M', 'M', 'M', 'M']\n",
            "['M', 'M', 'M', 'M', 'M']\n",
            "['M', 'M', 'V', 'M', 'M']\n",
            "['M', 'V', 'V', 'V', 'M']\n",
            "['M', 'M', 'M', 'M', 'M']\n",
            "['M', 'M', 'M', 'M', 'M']\n",
            "5\n",
            "6\n",
            "M\n",
            "V\n"
          ]
        }
      ]
    },
    {
      "cell_type": "markdown",
      "metadata": {
        "id": "mfmw2Jt-JUUi"
      },
      "source": [
        "## ¿Cómo se debería programar el juego de la vida?\n",
        "\n",
        "R. -programar un ADT específico para empaquetar la lógica del Juego de la vida.\n",
        "\n",
        "\n",
        "\n"
      ]
    },
    {
      "cell_type": "code",
      "metadata": {
        "id": "vi-TDpqxJ7jN"
      },
      "source": [
        "'''\n",
        "En el constructor:\n",
        "lista_pob_inicial es una lista que tiene las coordenadas de la forma (ren, col) de las celulas vivas en la población inicial\n",
        "'''\n",
        "class JuegoDeLaVidaADT:\n",
        "  def __init__( self,rens,cols, list_pob_init, generations  ):\n",
        "    self.__rens = rens\n",
        "    self.__cols = cols\n",
        "    self.list_pob_init = list_pob_init\n",
        "    self.generations = generations\n",
        "    self.gen = 1\n",
        "    self.tablero = Array2D(self.__rens,self.__cols)\n",
        "    self.tablero.clear(\"M\")\n",
        "    for par in self.list_pob_init:\n",
        "      self.tablero.set_item(par[0],par[1],'V')\n",
        "\n",
        "  def to_String(self):\n",
        "    print(f\"---------GENERACION {self.gen}\")\n",
        "    self.tablero.to_string()\n",
        "  \n",
        "  def get_vecinos(self, r, c):\n",
        "    vecinos = []\n",
        "    for ren in range(r - 1, r + 2, 1):\n",
        "      for col in range(c - 1, c + 2, 1):\n",
        "        if (ren < 0 or ren > self.__rens) or (col < 0 or col > self.__cols):\n",
        "          continue\n",
        "        else:\n",
        "          vecinos.append((ren,col))  \n",
        "    if (r,c) in vecinos:\n",
        "        vecinos.remove((r,c))\n",
        "    return vecinos      \n",
        "\n",
        "  \"\"\"La lista vecinos es una lista de tuplas que son las cordenadas x,y de la forma (ren,col) de las\n",
        "    Celulas\"\"\"\n",
        "\n",
        "  def get_vecinos_vivos(self, list_vecinos):\n",
        "    vivos = []\n",
        "    for vecino in list_vecinos:\n",
        "      vecino_actual = self.tablero.get_item(vecino[0],vecino[1])\n",
        "      if vecino_actual == 'V':\n",
        "        vivos.append((vecino[0],vecino[1]))\n",
        "      else:\n",
        "        continue\n",
        "    return vivos"
      ],
      "execution_count": null,
      "outputs": []
    },
    {
      "cell_type": "code",
      "metadata": {
        "colab": {
          "base_uri": "https://localhost:8080/"
        },
        "id": "HgJyy8ngNASv",
        "outputId": "2b1212e4-5ec1-42e5-e316-49c18981029d"
      },
      "source": [
        "juego = JuegoDeLaVidaADT(6,5, [(2,2),(3,1),(3,2),(3,3)],5)\n",
        "juego.to_String()\n",
        "vecinos = juego.get_vecinos(2,2)\n",
        "print(f\"Vecinos de [2,2]: \\n{vecinos}\")\n",
        "vivos = juego.get_vecinos_vivos(vecinos)\n",
        "print(f\"Vecinos vivos de [2,2]: \\n{vivos}\")"
      ],
      "execution_count": null,
      "outputs": [
        {
          "output_type": "stream",
          "name": "stdout",
          "text": [
            "---------GENERACION 1\n",
            "['M', 'M', 'M', 'M', 'M']\n",
            "['M', 'M', 'M', 'M', 'M']\n",
            "['M', 'M', 'V', 'M', 'M']\n",
            "['M', 'V', 'V', 'V', 'M']\n",
            "['M', 'M', 'M', 'M', 'M']\n",
            "['M', 'M', 'M', 'M', 'M']\n",
            "Vecinos de [2,2]: \n",
            "[(1, 1), (1, 2), (1, 3), (2, 1), (2, 3), (3, 1), (3, 2), (3, 3)]\n",
            "Vecinos vivos de [2,2]: \n",
            "[(3, 1), (3, 2), (3, 3)]\n"
          ]
        }
      ]
    }
  ]
}