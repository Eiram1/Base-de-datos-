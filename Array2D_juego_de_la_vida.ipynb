{
  "nbformat": 4,
  "nbformat_minor": 0,
  "metadata": {
    "colab": {
      "name": "Array2D juego de la vida.ipynb",
      "provenance": [],
      "collapsed_sections": [],
      "authorship_tag": "ABX9TyOhagoKTb2/X9YG+hg5NZSm",
      "include_colab_link": true
    },
    "kernelspec": {
      "name": "python3",
      "display_name": "Python 3"
    },
    "language_info": {
      "name": "python"
    }
  },
  "cells": [
    {
      "cell_type": "markdown",
      "metadata": {
        "id": "view-in-github",
        "colab_type": "text"
      },
      "source": [
        "<a href=\"https://colab.research.google.com/github/Eiram1/Estructura-de-datos-/blob/master/Array2D_juego_de_la_vida.ipynb\" target=\"_parent\"><img src=\"https://colab.research.google.com/assets/colab-badge.svg\" alt=\"Open In Colab\"/></a>"
      ]
    },
    {
      "cell_type": "code",
      "metadata": {
        "colab": {
          "base_uri": "https://localhost:8080/"
        },
        "id": "5aTTjsoWC2sh",
        "outputId": "5057d8e6-44bf-4277-f373-329bb73c2766"
      },
      "source": [
        "!pip install simple_chalk"
      ],
      "execution_count": 39,
      "outputs": [
        {
          "output_type": "stream",
          "name": "stdout",
          "text": [
            "Collecting simple_chalk\n",
            "  Downloading simple_chalk-0.1.0.tar.gz (13 kB)\n",
            "Building wheels for collected packages: simple-chalk\n",
            "  Building wheel for simple-chalk (setup.py) ... \u001b[?25l\u001b[?25hdone\n",
            "  Created wheel for simple-chalk: filename=simple_chalk-0.1.0-py3-none-any.whl size=22163 sha256=be3a198318fdfaf793f9a8b0b54c97cb65beb7569f29d1967bd527a6bb0cd16f\n",
            "  Stored in directory: /root/.cache/pip/wheels/24/e2/84/d54838032016039eef79df1137b91defaa6db068d825dfcdcd\n",
            "Successfully built simple-chalk\n",
            "Installing collected packages: simple-chalk\n",
            "Successfully installed simple-chalk-0.1.0\n"
          ]
        }
      ]
    },
    {
      "cell_type": "code",
      "metadata": {
        "id": "7-uri78T9FYz"
      },
      "source": [
        "class Array2D():\n",
        "  def __init__(self, ren, col):\n",
        "    self.__columnas = col\n",
        "    self.__renglones = ren\n",
        "    self.__data = [[ 0 for i in range(col)]for i in range (ren)]\n",
        "\n",
        "  def to_string(self):\n",
        "    self.__data\n",
        "    for i in range(self.__renglones):\n",
        "      print(self.__data[i])\n",
        "\n",
        "  def clear(self, dato):\n",
        "    for i in range(self.__renglones):\n",
        "      for x in range(self.__columnas):\n",
        "        self.__data[i][x] = dato\n",
        "\n",
        "  def get_row_size(self):\n",
        "    return self.__renglones\n",
        "\n",
        "  def get_col_size(self):\n",
        "    return self.__columnas\n",
        "  \n",
        "  def set_item(self,ren,col,dato):\n",
        "    self.__data[ren][col] = dato\n",
        "\n",
        "  def get_item(self,ren,col):\n",
        "    return self.__data[ren][col]"
      ],
      "execution_count": 40,
      "outputs": []
    },
    {
      "cell_type": "markdown",
      "metadata": {
        "id": "mfmw2Jt-JUUi"
      },
      "source": [
        "## ¿Cómo se debería programar el juego de la vida?\n",
        "\n",
        "R. -programar un ADT específico para empaquetar la lógica del Juego de la vida.\n",
        "\n",
        "\n",
        "\n"
      ]
    },
    {
      "cell_type": "code",
      "metadata": {
        "colab": {
          "base_uri": "https://localhost:8080/"
        },
        "id": "Fn0oEvVwERWI",
        "outputId": "69b7caab-edf4-4fae-85a3-4c7a7c97d121"
      },
      "source": [
        "from simple_chalk import *\n",
        "\n",
        "nom = \"juan\"\n",
        "edad = 19\n",
        "\n",
        "print( chalk.blue(nom) )"
      ],
      "execution_count": null,
      "outputs": [
        {
          "output_type": "stream",
          "name": "stdout",
          "text": [
            "\u001b[34mjuan\u001b[0m\n"
          ]
        }
      ]
    },
    {
      "cell_type": "code",
      "metadata": {
        "id": "LvKUwf5oe0sM"
      },
      "source": [
        "from simple_chalk import chalk , red, green\n",
        "class JuegoDeLaVidaADT:\n",
        "  def __init__(self,rens,cols,lista_pob_inicial,generaciones):\n",
        "    self.copytablero = Array2D(rens,cols)\n",
        "    self.tablero = Array2D(rens,cols)\n",
        "    self.renglones = rens\n",
        "    self.columnas = cols\n",
        "    self.generaciones = generaciones\n",
        "    self.gen = 1\n",
        "    self.tablero.clear(\"M\")\n",
        "    for par in lista_pob_inicial:\n",
        "      self.tablero.set_item(par[0], par[1], 'V')\n",
        "\n",
        "  def to_string(self):   \n",
        "    self.tablero.to_string()\n",
        "\n",
        "  def get_vecinos(self,r,c):\n",
        "    vecinos = []\n",
        "    for ren in range(r-1, r+2,1):\n",
        "      for col in range(c-1 , c+2,1):\n",
        "         if ren < 0 or ren >= self.tablero.get_row_size() or col < 0 or col >= self.tablero.get_col_size() or (ren==r and col==c):\n",
        "           pass\n",
        "         else:\n",
        "           vecinos.append((ren,col))  \n",
        "    return vecinos       \n",
        "\n",
        "  def get_vecinos_vivos(self, r, c):\n",
        "    vivos = 0\n",
        "    vecinos = self.get_vecinos(r,c)\n",
        "    for par in vecinos:\n",
        "      if self.tablero.get_item(par[0],par[1]) == 'V':\n",
        "        vivos += 1\n",
        "    return vivos \n",
        "\n",
        "  def clonar_Grid(self,copytablero):\n",
        "    grid = []\n",
        "    for ren in range(self.renglones):\n",
        "      for col in range(self.columnas):\n",
        "        grid.append((ren,col))\n",
        "    for par in grid:        \n",
        "      if self.copytablero.get_item(par[0],par[1]) == \"V\":\n",
        "        self.tablero.set_item(par[0],par[1],\"V\")\n",
        "      if self.copytablero.get_item(par[0],par[1]) == \"M\":  \n",
        "        self.tablero.set_item(par[0],par[1],\"M\")\n",
        "    \n",
        "  def aplicar_reglas(self):\n",
        "    self.copytablero.clear(\"M\")\n",
        "    grid = []\n",
        "    for ren in range(self.renglones):\n",
        "      for col in range(self.columnas):\n",
        "        grid.append((ren,col))\n",
        "     \n",
        "    for i in range(self.generaciones):\n",
        "      print(f\"-------GENERACION {i+1}--------\")\n",
        "      for par in grid:\n",
        "        if self.tablero.get_item(par[0],par[1]) == \"V\":\n",
        "          if self.get_vecinos_vivos(par[0],par[1]) == 2 or self.get_vecinos_vivos(par[0],par[1]) == 3:\n",
        "            self.copytablero.set_item(par[0],par[1],\"V\")\n",
        "          \n",
        "\n",
        "        if self.tablero.get_item(par[0],par[1]) == \"V\":\n",
        "          if self.get_vecinos_vivos(par[0],par[1]) == 1 or self.get_vecinos_vivos(par[0],par[1]) == 0:\n",
        "            self.copytablero.set_item(par[0], par[1],\"M\")\n",
        "\n",
        "        if self.tablero.get_item(par[0],par[1]) == \"V\":\n",
        "          if self.get_vecinos_vivos(par[0],par[1]) >= 4:\n",
        "            self.copytablero.set_item(par[0], par[1],\"M\")  \n",
        "\n",
        "        if self.tablero.get_item(par[0],par[1]) == \"M\":\n",
        "          if self.get_vecinos_vivos(par[0],par[1]) == 3:\n",
        "            self.copytablero.set_item(par[0], par[1],\"V\") \n",
        "      \n",
        "      self.clonar_Grid(self.copytablero)\n",
        "      juego.to_string()\n",
        "      print(\"-------------------------\")"
      ],
      "execution_count": 41,
      "outputs": []
    },
    {
      "cell_type": "code",
      "metadata": {
        "colab": {
          "base_uri": "https://localhost:8080/"
        },
        "id": "VzYl0Qwue8lI",
        "outputId": "d00ca622-4e5d-4f56-aa67-9dd4bc6f5939"
      },
      "source": [
        "juego = JuegoDeLaVidaADT(6,5, [(2,2),(3,1),(3,2),(3,3)],9)\n",
        "juego.aplicar_reglas()\n",
        "\n",
        "print(\"Vecinos de 2,3\")\n",
        "print(juego.get_vecinos(2,3))\n",
        "r = 2\n",
        "c = 3\n",
        "print(juego.get_vecinos_vivos(r,c))\n"
      ],
      "execution_count": 42,
      "outputs": [
        {
          "output_type": "stream",
          "name": "stdout",
          "text": [
            "-------GENERACION 1--------\n",
            "['M', 'M', 'M', 'M', 'M']\n",
            "['M', 'M', 'M', 'M', 'M']\n",
            "['M', 'V', 'V', 'V', 'M']\n",
            "['M', 'V', 'V', 'V', 'M']\n",
            "['M', 'M', 'V', 'M', 'M']\n",
            "['M', 'M', 'M', 'M', 'M']\n",
            "-------------------------\n",
            "-------GENERACION 2--------\n",
            "['M', 'M', 'M', 'M', 'M']\n",
            "['M', 'M', 'V', 'M', 'M']\n",
            "['M', 'V', 'M', 'V', 'M']\n",
            "['M', 'M', 'M', 'M', 'M']\n",
            "['M', 'V', 'V', 'V', 'M']\n",
            "['M', 'M', 'M', 'M', 'M']\n",
            "-------------------------\n",
            "-------GENERACION 3--------\n",
            "['M', 'M', 'M', 'M', 'M']\n",
            "['M', 'M', 'V', 'M', 'M']\n",
            "['M', 'M', 'V', 'M', 'M']\n",
            "['M', 'V', 'M', 'V', 'M']\n",
            "['M', 'M', 'V', 'M', 'M']\n",
            "['M', 'M', 'V', 'M', 'M']\n",
            "-------------------------\n",
            "-------GENERACION 4--------\n",
            "['M', 'M', 'M', 'M', 'M']\n",
            "['M', 'M', 'M', 'M', 'M']\n",
            "['M', 'V', 'V', 'V', 'M']\n",
            "['M', 'V', 'M', 'V', 'M']\n",
            "['M', 'V', 'V', 'V', 'M']\n",
            "['M', 'M', 'M', 'M', 'M']\n",
            "-------------------------\n",
            "-------GENERACION 5--------\n",
            "['M', 'M', 'M', 'M', 'M']\n",
            "['M', 'M', 'V', 'M', 'M']\n",
            "['M', 'V', 'M', 'V', 'M']\n",
            "['V', 'M', 'M', 'M', 'V']\n",
            "['M', 'V', 'M', 'V', 'M']\n",
            "['M', 'M', 'V', 'M', 'M']\n",
            "-------------------------\n",
            "-------GENERACION 6--------\n",
            "['M', 'M', 'M', 'M', 'M']\n",
            "['M', 'M', 'V', 'M', 'M']\n",
            "['M', 'V', 'V', 'V', 'M']\n",
            "['V', 'V', 'M', 'V', 'V']\n",
            "['M', 'V', 'V', 'V', 'M']\n",
            "['M', 'M', 'V', 'M', 'M']\n",
            "-------------------------\n",
            "-------GENERACION 7--------\n",
            "['M', 'M', 'M', 'M', 'M']\n",
            "['M', 'V', 'V', 'V', 'M']\n",
            "['V', 'M', 'M', 'M', 'V']\n",
            "['V', 'M', 'M', 'M', 'V']\n",
            "['V', 'M', 'M', 'M', 'V']\n",
            "['M', 'V', 'V', 'V', 'M']\n",
            "-------------------------\n",
            "-------GENERACION 8--------\n",
            "['M', 'M', 'V', 'M', 'M']\n",
            "['M', 'V', 'V', 'V', 'M']\n",
            "['V', 'M', 'V', 'M', 'V']\n",
            "['V', 'V', 'M', 'V', 'V']\n",
            "['V', 'M', 'V', 'M', 'V']\n",
            "['M', 'V', 'V', 'V', 'M']\n",
            "-------------------------\n",
            "-------GENERACION 9--------\n",
            "['M', 'V', 'V', 'V', 'M']\n",
            "['M', 'M', 'M', 'M', 'M']\n",
            "['V', 'M', 'M', 'M', 'V']\n",
            "['V', 'M', 'M', 'M', 'V']\n",
            "['V', 'M', 'M', 'M', 'V']\n",
            "['M', 'V', 'V', 'V', 'M']\n",
            "-------------------------\n",
            "Vecinos de 2,3\n",
            "[(1, 2), (1, 3), (1, 4), (2, 2), (2, 4), (3, 2), (3, 3), (3, 4)]\n",
            "2\n"
          ]
        }
      ]
    }
  ]
}