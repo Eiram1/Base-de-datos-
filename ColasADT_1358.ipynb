{
  "nbformat": 4,
  "nbformat_minor": 0,
  "metadata": {
    "colab": {
      "name": "ColasADT_1358.ipynb",
      "provenance": [],
      "authorship_tag": "ABX9TyPFwhlb9ckXtsdUPjfATobi",
      "include_colab_link": true
    },
    "kernelspec": {
      "name": "python3",
      "display_name": "Python 3"
    },
    "language_info": {
      "name": "python"
    }
  },
  "cells": [
    {
      "cell_type": "markdown",
      "metadata": {
        "id": "view-in-github",
        "colab_type": "text"
      },
      "source": [
        "<a href=\"https://colab.research.google.com/github/Eiram1/Estructura-de-datos-/blob/master/ColasADT_1358.ipynb\" target=\"_parent\"><img src=\"https://colab.research.google.com/assets/colab-badge.svg\" alt=\"Open In Colab\"/></a>"
      ]
    },
    {
      "cell_type": "code",
      "metadata": {
        "id": "vWxzCB6asjvh"
      },
      "source": [
        "class QueueADT:\n",
        "  def __init__( self ):\n",
        "    self.__data = []\n",
        "\n",
        "  def is_empty( self ):\n",
        "    return len( self.__data ) == 0\n",
        "  \n",
        "  def lenght( self ):\n",
        "    return len( self.__data )\n",
        "\n",
        "  def enqueue( self, elem ):\n",
        "    self.__data.append( elem )\n",
        "\n",
        "  def dequeue( self ):\n",
        "    if not self.is_empty():\n",
        "      return self.__data.pop(0)\n",
        "\n",
        "  def to_string( self ):\n",
        "    for elem in self.__data:\n",
        "      print(f\"| {elem} | <---\", end=\"\")\n",
        "    print(\"\")"
      ],
      "execution_count": 26,
      "outputs": []
    },
    {
      "cell_type": "code",
      "metadata": {
        "colab": {
          "base_uri": "https://localhost:8080/"
        },
        "id": "WEvOdwJ5ukKu",
        "outputId": "c2fcd4ad-1b6e-4ef4-f4f8-00d9a08bc5b2"
      },
      "source": [
        "cola = QueueADT()\n",
        "print(\"Está vacío?\", cola.is_empty() )\n",
        "print(\"# elementos\", cola.lenght())\n",
        "cola.enqueue(10)\n",
        "cola.to_string()\n",
        "cola.enqueue(20)\n",
        "cola.enqueue(30)\n",
        "cola.enqueue(40)\n",
        "cola.to_string()\n",
        "siguiente = cola.dequeue()\n",
        "print(\"atendiendo a: \", siguiente )\n",
        "cola.to_string()"
      ],
      "execution_count": null,
      "outputs": [
        {
          "output_type": "stream",
          "name": "stdout",
          "text": [
            "Está vacío? True\n",
            "# elementos 0\n",
            "| 10 | <---\n",
            "| 10 | <---| 20 | <---| 30 | <---| 40 | <---\n",
            "atendiendo a:  10\n",
            "| 20 | <---| 30 | <---| 40 | <---\n"
          ]
        }
      ]
    },
    {
      "cell_type": "code",
      "metadata": {
        "id": "kD6yBkoe-i7l"
      },
      "source": [
        "class ColaPrioridadAcotada:\n",
        "  def __init__( self, niveles ):\n",
        "    self.__data = [ QueueADT() for i in range(niveles)]\n",
        "    self.length = 0 #Número de elementos encolados\n",
        "\n",
        "  def is_empty( self ):\n",
        "    return self.length == 0\n",
        "\n",
        "  def length( self ):\n",
        "    return self.length\n",
        "  \n",
        "  def enqueue( self, prioridad, elem ):\n",
        "    if prioridad >= 0 and prioridad < len(self.__data):\n",
        "      self.__data[prioridad].enqueue( elem )\n",
        "      self.length += 1\n",
        "\n",
        "  def to_string( self ):\n",
        "    for p in range( len( self.__data ) ):\n",
        "      print(f\"Prioridad { p } --->\", end = \"\")\n",
        "      self.__data[p].to_string()\n",
        "\n",
        "  def dequeue( self ):\n",
        "    for nivel in self.__data:\n",
        "      if not nivel.is_empty():\n",
        "        self.length -= 1\n",
        "        return nivel.dequeue()\n",
        "        "
      ],
      "execution_count": 25,
      "outputs": []
    },
    {
      "cell_type": "code",
      "metadata": {
        "colab": {
          "base_uri": "https://localhost:8080/"
        },
        "id": "vPKAy0ZzCqDW",
        "outputId": "708803ea-bad4-4bcb-9cd2-598ed6f2b028"
      },
      "source": [
        "cpa = ColaPrioridadAcotada( 7 )\n",
        "cpa.enqueue(4, \"A\")\n",
        "cpa.enqueue(2, \"Z\")\n",
        "cpa.enqueue(4, \"N\")\n",
        "cpa.enqueue(1, \"P\")\n",
        "cpa.to_string()\n",
        "print(\".-.-.-.-.-.-.\")\n",
        "sig = cpa.dequeue()\n",
        "cpa.to_string()"
      ],
      "execution_count": null,
      "outputs": [
        {
          "output_type": "stream",
          "name": "stdout",
          "text": [
            "Prioridad 0 --->\n",
            "Prioridad 1 --->| P | <---\n",
            "Prioridad 2 --->| Z | <---\n",
            "Prioridad 3 --->\n",
            "Prioridad 4 --->| A | <---| N | <---\n",
            "Prioridad 5 --->\n",
            "Prioridad 6 --->\n",
            ".-.-.-.-.-.-.\n",
            "Prioridad 0 --->\n",
            "Prioridad 1 --->\n",
            "Prioridad 2 --->| Z | <---\n",
            "Prioridad 3 --->\n",
            "Prioridad 4 --->| A | <---| N | <---\n",
            "Prioridad 5 --->\n",
            "Prioridad 6 --->\n"
          ]
        }
      ]
    },
    {
      "cell_type": "code",
      "metadata": {
        "id": "LKeoWeWCFO2t"
      },
      "source": [
        "class ColaDePrioridad:\n",
        "  def __init__( self ):\n",
        "    slef.__data = []\n",
        "    self.length = 0\n",
        "  \n",
        "  def is_empty( self ):\n",
        "    return self.length == 0\n",
        "\n",
        "  def length( self ):\n",
        "    return self.length\n",
        "\n",
        "     # Utilizar la función insert de el tipo de dato list de python.\n",
        "     # Para mantener ordenado los niveles de prioridad.\n",
        "     # Tarea Moral\n",
        "\n",
        "  def enqueue( self, prioridad, elem ):\n",
        "    existe = False\n",
        "    indice = 0\n",
        "    for index in range( len( self.__data ) ):\n",
        "      if self.__data [index][\"p\"] == prioridad:\n",
        "        existe = True\n",
        "        indice = index \n",
        "        break\n",
        "    if existe:\n",
        "        self.__data[indice][\"cola\"].enqueue(elem)\n",
        "    else:\n",
        "        self.__data.append( { \"p\":prioridad , \"cola\": QueueADT() } )\n",
        "        self.__data[-1][\"cola\"].enqueue(elem)    \n",
        "  \n",
        "  def to_string( self ):\n",
        "    for level in self.__data:\n",
        "      print(level[\"p\"] ,end =\" = \")\n",
        "      level[\"cola\"].to_string()"
      ],
      "execution_count": 49,
      "outputs": []
    },
    {
      "cell_type": "code",
      "metadata": {
        "colab": {
          "base_uri": "https://localhost:8080/",
          "height": 221
        },
        "id": "zQdyYFV8JTsY",
        "outputId": "28e5e062-5c7f-417f-df0b-755165e042c8"
      },
      "source": [
        "cp = ColaDePrioridad\n",
        "cp.enqueue( 2 , \"A\")\n",
        "cp.enqueue( 4 , \"Z\" )\n",
        "cp.to_string()\n"
      ],
      "execution_count": 50,
      "outputs": [
        {
          "output_type": "error",
          "ename": "TypeError",
          "evalue": "ignored",
          "traceback": [
            "\u001b[0;31m---------------------------------------------------------------------------\u001b[0m",
            "\u001b[0;31mTypeError\u001b[0m                                 Traceback (most recent call last)",
            "\u001b[0;32m<ipython-input-50-0bb069b44709>\u001b[0m in \u001b[0;36m<module>\u001b[0;34m()\u001b[0m\n\u001b[1;32m      1\u001b[0m \u001b[0mcp\u001b[0m \u001b[0;34m=\u001b[0m \u001b[0mColaDePrioridad\u001b[0m\u001b[0;34m\u001b[0m\u001b[0;34m\u001b[0m\u001b[0m\n\u001b[0;32m----> 2\u001b[0;31m \u001b[0mcp\u001b[0m\u001b[0;34m.\u001b[0m\u001b[0menqueue\u001b[0m\u001b[0;34m(\u001b[0m\u001b[0;36m2\u001b[0m\u001b[0;34m,\u001b[0m\u001b[0;34m\"A\"\u001b[0m\u001b[0;34m)\u001b[0m\u001b[0;34m\u001b[0m\u001b[0;34m\u001b[0m\u001b[0m\n\u001b[0m\u001b[1;32m      3\u001b[0m \u001b[0mcp\u001b[0m\u001b[0;34m.\u001b[0m\u001b[0menqueue\u001b[0m\u001b[0;34m(\u001b[0m \u001b[0;36m4\u001b[0m \u001b[0;34m,\u001b[0m \u001b[0;34m\"Z\"\u001b[0m \u001b[0;34m)\u001b[0m\u001b[0;34m\u001b[0m\u001b[0;34m\u001b[0m\u001b[0m\n\u001b[1;32m      4\u001b[0m \u001b[0mcp\u001b[0m\u001b[0;34m.\u001b[0m\u001b[0mto_string\u001b[0m\u001b[0;34m(\u001b[0m\u001b[0;34m)\u001b[0m\u001b[0;34m\u001b[0m\u001b[0;34m\u001b[0m\u001b[0m\n",
            "\u001b[0;31mTypeError\u001b[0m: enqueue() missing 1 required positional argument: 'elem'"
          ]
        }
      ]
    }
  ]
}