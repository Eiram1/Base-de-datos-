{
  "nbformat": 4,
  "nbformat_minor": 0,
  "metadata": {
    "colab": {
      "name": "recursividad_basica.ipynb",
      "provenance": [],
      "authorship_tag": "ABX9TyPTHZUtn7rIBembE2baryvm",
      "include_colab_link": true
    },
    "kernelspec": {
      "name": "python3",
      "display_name": "Python 3"
    },
    "language_info": {
      "name": "python"
    }
  },
  "cells": [
    {
      "cell_type": "markdown",
      "metadata": {
        "id": "view-in-github",
        "colab_type": "text"
      },
      "source": [
        "<a href=\"https://colab.research.google.com/github/Eiram1/Base-de-datos-/blob/master/recursividad_basica.ipynb\" target=\"_parent\"><img src=\"https://colab.research.google.com/assets/colab-badge.svg\" alt=\"Open In Colab\"/></a>"
      ]
    },
    {
      "cell_type": "code",
      "metadata": {
        "colab": {
          "base_uri": "https://localhost:8080/"
        },
        "id": "UtV9UkpqtVqB",
        "outputId": "25f9741d-83f8-4f3e-d61d-27602682be5d"
      },
      "source": [
        "n = 3\n",
        "\n",
        "def factorial( n ):\n",
        "  if n == 0:\n",
        "    return 1\n",
        "  else: \n",
        "    return n * factorial( n - 1 )\n",
        "\n",
        "n = 3\n",
        "print(factorial ( n ) )\n"
      ],
      "execution_count": 4,
      "outputs": [
        {
          "output_type": "stream",
          "name": "stdout",
          "text": [
            "6\n"
          ]
        }
      ]
    },
    {
      "cell_type": "code",
      "metadata": {
        "colab": {
          "base_uri": "https://localhost:8080/"
        },
        "id": "csjJYhrjzT4X",
        "outputId": "5fafa5ff-f65f-43fd-b89f-dee67235d9ad"
      },
      "source": [
        "def printRev( n ):\n",
        "  if n > 0:\n",
        "    print( n )\n",
        "    printRev( n - 1) \n",
        "  \n",
        "n = 3\n",
        "printRev( n )  "
      ],
      "execution_count": 40,
      "outputs": [
        {
          "output_type": "stream",
          "name": "stdout",
          "text": [
            "3\n",
            "2\n",
            "1\n"
          ]
        }
      ]
    },
    {
      "cell_type": "code",
      "metadata": {
        "colab": {
          "base_uri": "https://localhost:8080/"
        },
        "id": "NyzPQoIGwn5g",
        "outputId": "409703cb-8225-4bc9-ff3c-5c8ea108d26e"
      },
      "source": [
        "def fibonacci( n ):\n",
        "  if n == 0:\n",
        "    return 0\n",
        "  elif n == 1:\n",
        "    return 1\n",
        "  else:\n",
        "    return fibonacci( n - 1 ) + fibonacci ( n - 2 )\n",
        "\n",
        "n = int(input(\"ingrese un número entero: \"))\n",
        "print(fibonacci(n))"
      ],
      "execution_count": 22,
      "outputs": [
        {
          "output_type": "stream",
          "name": "stdout",
          "text": [
            "ingrese un número entero: 4\n",
            "3\n"
          ]
        }
      ]
    }
  ]
}