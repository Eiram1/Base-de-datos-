{
  "nbformat": 4,
  "nbformat_minor": 0,
  "metadata": {
    "colab": {
      "name": "Laberinto.ipynb",
      "provenance": [],
      "collapsed_sections": [],
      "authorship_tag": "ABX9TyPIYlyu4W2x6L0k3IjAjTGP",
      "include_colab_link": true
    },
    "kernelspec": {
      "name": "python3",
      "display_name": "Python 3"
    },
    "language_info": {
      "name": "python"
    }
  },
  "cells": [
    {
      "cell_type": "markdown",
      "metadata": {
        "id": "view-in-github",
        "colab_type": "text"
      },
      "source": [
        "<a href=\"https://colab.research.google.com/github/Eiram1/Estructura-de-datos-/blob/master/Laberinto.ipynb\" target=\"_parent\"><img src=\"https://colab.research.google.com/assets/colab-badge.svg\" alt=\"Open In Colab\"/></a>"
      ]
    },
    {
      "cell_type": "code",
      "metadata": {
        "id": "jrxtnUo1Tl9Q"
      },
      "source": [
        "class StackADT:\n",
        "  def __init__( self ):\n",
        "    self.data = list()\n",
        "    self.tope = 0\n",
        "\n",
        "  def is_empty( self ):\n",
        "    return self.tope == 0\n",
        "\n",
        "  def lenght( self ):\n",
        "    return self.tope -1 \n",
        "\n",
        "  def pop( self ):\n",
        "    if not self.is_empty():\n",
        "      return self.data.pop()\n",
        "    self.tope -=1\n",
        "  \n",
        "  def peek( self ):\n",
        "    return self.data[ self.tope -1 ]\n",
        "\n",
        "  def push( self, value ):\n",
        "    self.data.append( value )\n",
        "    self.tope += 1\n",
        "\n",
        "  def to_string( self ):\n",
        "    print(\"Estado de la pila:\")\n",
        "    for elem in self.data[ : : -1]:\n",
        "      print(f\" | {elem} | \")"
      ],
      "execution_count": 3,
      "outputs": []
    },
    {
      "cell_type": "code",
      "metadata": {
        "colab": {
          "base_uri": "https://localhost:8080/"
        },
        "id": "YEk1yhCUXUrX",
        "outputId": "71b24458-bf03-40a9-a0e9-f66d2da5858d"
      },
      "source": [
        "pila = StackADT()\n",
        "pila.push( 10 )\n",
        "pila.push( 20 )\n",
        "pila.push( 30 )\n",
        "pila.to_string()\n",
        "\n",
        "print(\"Llamada a peek\", pila.peek())\n",
        "print(\"Llamada a pop\", pila.pop())\n",
        "pila.to_string()\n",
        "\n",
        "pila.push( 25 )\n",
        "pila.push( 26 )\n",
        "print(\"Después de meter 25 y 26\")\n",
        "pila.to_string()\n",
        "print(f\"La pila tiene { pila.lenght() } elementos\")\n",
        "pila.pop()\n",
        "pila.pop()\n",
        "pila.pop()\n",
        "pila.pop()\n",
        "print(f\"La pila tiene { pila.lenght() } elementos\")"
      ],
      "execution_count": null,
      "outputs": [
        {
          "output_type": "stream",
          "name": "stdout",
          "text": [
            "Estado de la pila:\n",
            " | 30 | \n",
            " | 20 | \n",
            " | 10 | \n",
            "Llamada a peek 30\n",
            "Llamada a pop 30\n",
            "Estado de la pila:\n",
            " | 20 | \n",
            " | 10 | \n",
            "Después de meter 25 y 26\n",
            "Estado de la pila:\n",
            " | 26 | \n",
            " | 25 | \n",
            " | 20 | \n",
            " | 10 | \n",
            "La pila tiene 4 elementos\n",
            "La pila tiene 0 elementos\n"
          ]
        }
      ]
    },
    {
      "cell_type": "code",
      "metadata": {
        "id": "cmyg-iEZptei"
      },
      "source": [
        "class Array2D():\n",
        "  def __init__(self, ren, col):\n",
        "    self.__columnas = col\n",
        "    self.__renglones = ren\n",
        "    self.__data = [[ 0 for i in range(col)]for i in range (ren)]\n",
        "\n",
        "  def to_string(self):\n",
        "    for i in range(self.__renglones):\n",
        "      print(self.__data[i])\n",
        "\n",
        "  def clear(self, dato):\n",
        "    for i in range (self.__renglones):\n",
        "      for x in range(self.__columnas):\n",
        "        self.__data[i][x] = dato\n",
        "\n",
        "  def get_row_size(self):\n",
        "    return self.__renglones\n",
        "\n",
        "  def get_col_size(self):\n",
        "    return self.__columnas\n",
        "\n",
        "  def set_item(self,ren,col,dato):\n",
        "    self.__data[ren][col] = dato\n",
        "\n",
        "  def get_item(self,ren,col):\n",
        "    return self.__data[ren][col]"
      ],
      "execution_count": 2,
      "outputs": []
    },
    {
      "cell_type": "code",
      "metadata": {
        "id": "y0rhHUzpqstb"
      },
      "source": [
        "class LaberintoADT:\n",
        "  def __init__(self, archivo):\n",
        "    self.laberinto = None   #Array2D\n",
        "    self.salida = None \n",
        "    self.entrada = None\n",
        "    self.camino = StackADT()\n",
        "    self.inicializa(archivo)\n",
        "    self.laberinto.to_string()\n",
        "    print(\"Stack\")\n",
        "    self.camino.to_string\n",
        "\n",
        "  def inicializa(self, archivo):\n",
        "    entrada = open(archivo , 'rt')\n",
        "    self.laberinto = Array2D( int ( entrada.readline().strip()), int(entrada.readline().strip()))\n",
        "    self.laberinto.clear('P')\n",
        "    lineas = entrada.readlines()\n",
        "    #print(\"Lineas: \")\n",
        "    #print(lineas)\n",
        "    for r in range( len(lineas)):\n",
        "      lineaBis = lineas[r].strip().split(',')\n",
        "      for c in range( len(lineaBis )) :\n",
        "        self.laberinto.set_item(r,c,lineaBis[c])\n",
        "\n",
        "    for r in range( self.laberinto.get_row_size()):\n",
        "      for c in range( self.laberinto.get_col_size()):\n",
        "        if self.laberinto.get_item(r,c) == 'E':\n",
        "          self.camino.push((r,c))"
      ],
      "execution_count": 13,
      "outputs": []
    },
    {
      "cell_type": "code",
      "metadata": {
        "colab": {
          "base_uri": "https://localhost:8080/"
        },
        "id": "SErQ-o9Jt6fd",
        "outputId": "edb8ad43-9a70-4fbb-f89a-7a69dfd6cb14"
      },
      "source": [
        "juego = LaberintoADT('entrada.txt')"
      ],
      "execution_count": 14,
      "outputs": [
        {
          "output_type": "stream",
          "name": "stdout",
          "text": [
            "['P', 'P', 'P', 'P', 'P']\n",
            "['P', 'P', 'C', 'C', 'S']\n",
            "['P', 'C', 'C', 'P', 'P']\n",
            "['P', 'P', 'C', 'P', 'P']\n",
            "['P', 'P', 'E', 'P', 'P']\n",
            "Stack\n"
          ]
        }
      ]
    }
  ]
}