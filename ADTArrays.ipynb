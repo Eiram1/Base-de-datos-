{
  "nbformat": 4,
  "nbformat_minor": 0,
  "metadata": {
    "colab": {
      "name": "ADTArrays.ipynb",
      "provenance": [],
      "collapsed_sections": [],
      "authorship_tag": "ABX9TyPk3EhFyKOQ6dN/aUzjmOn0",
      "include_colab_link": true
    },
    "kernelspec": {
      "name": "python3",
      "display_name": "Python 3"
    },
    "language_info": {
      "name": "python"
    }
  },
  "cells": [
    {
      "cell_type": "markdown",
      "metadata": {
        "id": "view-in-github",
        "colab_type": "text"
      },
      "source": [
        "<a href=\"https://colab.research.google.com/github/Eiram1/Base-de-datos-/blob/master/ADTArrays.ipynb\" target=\"_parent\"><img src=\"https://colab.research.google.com/assets/colab-badge.svg\" alt=\"Open In Colab\"/></a>"
      ]
    },
    {
      "cell_type": "code",
      "metadata": {
        "id": "FZ5OTinrHz9q"
      },
      "source": [
        "\"\"\"\n",
        "ADT Array.\n",
        "Estatico\n",
        "\"\"\"\n",
        "class Array():\n",
        "  def __init__(self , tamano):\n",
        "    self.__tamano = tamano\n",
        "    self.__data = [0 for x in range(self.__tamano)]          # Generador\n",
        "\n",
        "  def get_item( self , index ):\n",
        "    return self.__data[index]\n",
        "\n",
        "  def to_string( self ):\n",
        "    print(self.__data)\n",
        "\n",
        "  def set_item( self , index ):\n",
        "    return self.__data[index]\n",
        "    \n",
        "  def clear():"
      ],
      "execution_count": null,
      "outputs": []
    },
    {
      "cell_type": "code",
      "metadata": {
        "colab": {
          "base_uri": "https://localhost:8080/",
          "height": 221
        },
        "id": "GwP_6VYpMAqM",
        "outputId": "536334d4-7109-4cd1-c252-60c5e680670f"
      },
      "source": [
        "ejemplo = Array(6)\n",
        "ejemplo.to_string()\n",
        "ejemplo.get_item(1)\n",
        "ejemplo.set_item(4)\n",
        "\n",
        "ejemplo.clear()\n"
      ],
      "execution_count": null,
      "outputs": [
        {
          "output_type": "stream",
          "name": "stdout",
          "text": [
            "[0, 0, 0, 0, 0, 0]\n"
          ]
        },
        {
          "output_type": "error",
          "ename": "TypeError",
          "evalue": "ignored",
          "traceback": [
            "\u001b[0;31m---------------------------------------------------------------------------\u001b[0m",
            "\u001b[0;31mTypeError\u001b[0m                                 Traceback (most recent call last)",
            "\u001b[0;32m<ipython-input-82-f49f6ef6593e>\u001b[0m in \u001b[0;36m<module>\u001b[0;34m()\u001b[0m\n\u001b[1;32m      4\u001b[0m \u001b[0mejemplo\u001b[0m\u001b[0;34m.\u001b[0m\u001b[0mset_item\u001b[0m\u001b[0;34m(\u001b[0m\u001b[0;36m4\u001b[0m\u001b[0;34m)\u001b[0m\u001b[0;34m\u001b[0m\u001b[0;34m\u001b[0m\u001b[0m\n\u001b[1;32m      5\u001b[0m \u001b[0;34m\u001b[0m\u001b[0m\n\u001b[0;32m----> 6\u001b[0;31m \u001b[0mejemplo\u001b[0m\u001b[0;34m.\u001b[0m\u001b[0mclear\u001b[0m\u001b[0;34m(\u001b[0m\u001b[0;34m)\u001b[0m\u001b[0;34m\u001b[0m\u001b[0;34m\u001b[0m\u001b[0m\n\u001b[0m",
            "\u001b[0;31mTypeError\u001b[0m: clear() missing 1 required positional argument: 'index'"
          ]
        }
      ]
    }
  ]
}