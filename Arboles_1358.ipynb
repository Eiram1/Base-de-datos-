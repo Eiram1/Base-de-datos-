{
  "nbformat": 4,
  "nbformat_minor": 0,
  "metadata": {
    "colab": {
      "name": "Arboles_1358.ipynb",
      "provenance": [],
      "collapsed_sections": [],
      "authorship_tag": "ABX9TyPSeW2rI+wWatt4RW3EDGNd",
      "include_colab_link": true
    },
    "kernelspec": {
      "name": "python3",
      "display_name": "Python 3"
    },
    "language_info": {
      "name": "python"
    }
  },
  "cells": [
    {
      "cell_type": "markdown",
      "metadata": {
        "id": "view-in-github",
        "colab_type": "text"
      },
      "source": [
        "<a href=\"https://colab.research.google.com/github/Eiram1/Estructura-de-datos-/blob/master/Arboles_1358.ipynb\" target=\"_parent\"><img src=\"https://colab.research.google.com/assets/colab-badge.svg\" alt=\"Open In Colab\"/></a>"
      ]
    },
    {
      "cell_type": "code",
      "metadata": {
        "id": "7q3TNebltEBl"
      },
      "source": [
        "class BinaryNode:\n",
        "  def __init__(self, value, left=None, rigth=None):\n",
        "    self.data = value\n",
        "    self.left = left\n",
        "    self.rigth = rigth"
      ],
      "execution_count": null,
      "outputs": []
    },
    {
      "cell_type": "code",
      "metadata": {
        "id": "L6QO35-cxExi"
      },
      "source": [
        "class TernaryNode:\n",
        "    def __init__(self, value, left=None, center=None, rigth=None):\n",
        "      self.data = value\n",
        "      self.left = left\n",
        "      self.center = center\n",
        "      self.rigth = rigth"
      ],
      "execution_count": null,
      "outputs": []
    },
    {
      "cell_type": "code",
      "metadata": {
        "colab": {
          "base_uri": "https://localhost:8080/"
        },
        "id": "oCJhOdZQvBbl",
        "outputId": "ed510524-c0c1-461d-9146-88e184ee2b4a"
      },
      "source": [
        "root = BinaryNode(\"R\", BinaryNode(\"C\"),BinaryNode(\"H\"))\n",
        "print(root.left.data)"
      ],
      "execution_count": null,
      "outputs": [
        {
          "output_type": "stream",
          "name": "stdout",
          "text": [
            "C\n"
          ]
        }
      ]
    },
    {
      "cell_type": "code",
      "metadata": {
        "colab": {
          "base_uri": "https://localhost:8080/"
        },
        "id": "4YtPLjUHwgvn",
        "outputId": "15b6ae7a-1308-4350-86d5-b39cfcad07d4"
      },
      "source": [
        "root = TernaryNode(4,TernaryNode(3,TernaryNode(5,left=TernaryNode(2)),\\\n",
        "                   TernaryNode(5),TernaryNode(2)),None,TernaryNode(5))\n",
        "print(root.left.left.left.data)\n",
        "print(\".-.-.-.-.-.-.-.-.-.-.-.-.-.-.-.-.-.\")\n",
        "aux = root\n",
        "while aux.left != None:\n",
        "  aux= aux.left\n",
        "print(aux.data)\n",
        "print(\".-.-.-.-.-.-.-.-.-.-.-.-.-.-.-.-.-.-.-.\")\n",
        "print(root.left.rigth.data)"
      ],
      "execution_count": null,
      "outputs": [
        {
          "output_type": "stream",
          "name": "stdout",
          "text": [
            "2\n",
            ".-.-.-.-.-.-.-.-.-.-.-.-.-.-.-.-.-.\n",
            "2\n",
            ".-.-.-.-.-.-.-.-.-.-.-.-.-.-.-.-.-.-.-.\n",
            "2\n"
          ]
        }
      ]
    },
    {
      "cell_type": "code",
      "metadata": {
        "colab": {
          "base_uri": "https://localhost:8080/"
        },
        "id": "Jt9GaPtD5lo6",
        "outputId": "c5bd60b6-6bff-46e5-867d-6ab33a1f0349"
      },
      "source": [
        "root = BinaryNode(\"Santi\",None,BinaryNode(\"Jesus\",BinaryNode(\"Pedro\",None,BinaryNode(\"Pedro Jr.\"))))\n",
        "print(root.rigth.left.rigth.data)"
      ],
      "execution_count": null,
      "outputs": [
        {
          "output_type": "stream",
          "name": "stdout",
          "text": [
            "Pedro Jr.\n"
          ]
        }
      ]
    },
    {
      "cell_type": "code",
      "metadata": {
        "id": "vOHv-N8kgeS3"
      },
      "source": [
        "class BinaryNode:\n",
        "  def __init__(self, value, left=None, right=None):\n",
        "    self.data = value\n",
        "    self.left = left\n",
        "    self.right = right\n",
        "\n",
        "class BinarySearchNode:\n",
        "  def __init__( self ):\n",
        "    self.root = None\n",
        "\n",
        "  def insert( self, value ):\n",
        "    if self.root == None:\n",
        "      self.root = BinaryNode( value )\n",
        "    else:\n",
        "      self.__insert_nodo( self.root, value )\n",
        "  \n",
        "  def __insert_nodo( self, nodo, value ):\n",
        "    if nodo.data == value:\n",
        "      pass\n",
        "    elif value < nodo.data:   # Ir a la izquierda\n",
        "      if nodo.left == None:\n",
        "        nodo.left = BinaryNode( value )\n",
        "      else:\n",
        "        self.__insert_nodo( nodo.left, value )\n",
        "    else:    # Ir a la derecha\n",
        "      if nodo.right == None:\n",
        "        nodo.right = BinaryNode( value )\n",
        "      else:\n",
        "        self.__insert_nodo( nodo.right, value )\n",
        "\n",
        "  def transversal( self, formato = \"posorden\"):\n",
        "    if formato == \"posorden\":\n",
        "      self.recorrido_pos( self.root )\n",
        "    elif formato == \"preorden\":\n",
        "      self.recorrido_pre( self.root )\n",
        "    else:   # Inorden\n",
        "      self.recorrido_in( self.root )\n",
        "    print()\n",
        "\n",
        "  def recorrido_pos( self, nodo ):\n",
        "    if nodo != None:\n",
        "      self.recorrido_pos( nodo.left )\n",
        "      self.recorrido_pos( nodo.right )\n",
        "      print(str( nodo.data ))\n",
        "\n",
        "  def recorrido_pre( self, nodo ):\n",
        "    if nodo != None:\n",
        "      print(str( nodo.data ))\n",
        "      self.recorrido_pre( nodo.left )\n",
        "      self.recorrido_pre( nodo.right )\n",
        "\n",
        "  def recorrido_in( self, nodo ):\n",
        "    if nodo != None:\n",
        "      self.recorrido_in( nodo.left )\n",
        "      print(str( nodo.data ))\n",
        "      self.recorrido_in( nodo.right )\n",
        "\n",
        "  def search( self, value ):\n",
        "    if self.root == None:\n",
        "      print(\"El árbol está vacío\")\n",
        "      return None\n",
        "    else:\n",
        "      return self.__search( self.root, value )\n",
        "\n",
        "  def __search( self, nodo, value ):\n",
        "    if nodo == None:\n",
        "      print(\"El dato no existe en el árbol\")\n",
        "    elif nodo.data == value:\n",
        "      print(\"Encontrado\", nodo.data)\n",
        "      return nodo\n",
        "    elif value < nodo.data:\n",
        "      return self.__search( nodo.left, value )\n",
        "    else:\n",
        "      return self.__search( nodo.right, value )\n",
        "  \n",
        "  def remove(self, value ):\n",
        "    if self.root == None:\n",
        "      print(\"Árbol vacío\")\n",
        "    # El que deseamos eliminar es la raíz.  \n",
        "    else:\n",
        "      self.__remove(None, None, self.root, value)\n",
        "\n",
        "  def __remove(self, padre_hi, padre_hd, actual, value):\n",
        "    if actual == None:\n",
        "      print(\"Caso base\")\n",
        "      return None\n",
        "    elif actual.data == value:\n",
        "      print(\"\\nEncontrado\", actual.data) \n",
        "      \n",
        "      #Caso 1: ES NODO HOJA\n",
        "      if actual.left == None and actual.right == None:\n",
        "        if padre_hi != None:\n",
        "            padre_hi.left = None\n",
        "        else:\n",
        "          padre_hd.right = None  \n",
        "\n",
        "      #Caso 2: TIENE 1 HIJO\n",
        "      elif (actual.left != None and actual.right == None) or (actual.left == None and actual.right != None):\n",
        "          if actual.left != None:\n",
        "            print(\"Subir Izq\")\n",
        "            aux = actual.left\n",
        "            actual.left = None\n",
        "            actual = aux\n",
        "          else:\n",
        "            print(\"Subir Der\")\n",
        "            aux = actual.right\n",
        "            actual.right = None\n",
        "            actual = aux\n",
        "\n",
        "      #Caso 3: TIENE LOS 2 HIJOS\n",
        "      \n",
        "      #return actual\n",
        "    elif value < actual.data:\n",
        "      self.__remove( actual, None, actual.left, value)\n",
        "    else:\n",
        "      self.__remove( None, actual, actual.right, value)"
      ],
      "execution_count": 1,
      "outputs": []
    },
    {
      "cell_type": "code",
      "metadata": {
        "id": "thyAu90U8zSI",
        "colab": {
          "base_uri": "https://localhost:8080/"
        },
        "outputId": "f2c7dedc-8a12-4f0c-b2fb-bf07056cf3a9"
      },
      "source": [
        "arb1 = BinarySearchNode()\n",
        "arb1 = BinarySearchNode()\n",
        "arb1.insert(60)\n",
        "arb1.insert(30)\n",
        "arb1.insert(15)\n",
        "arb1.insert(40)\n",
        "arb1.insert(80)\n",
        "arb1.insert(35)\n",
        "arb1.insert(55)\n",
        "\n",
        "arb1.transversal(\"postorden\")\n",
        "arb1.transversal(\"preorden\")\n",
        "arb1.transversal()\n",
        "\n",
        "print(arb1.search(110))\n",
        "print(arb1.search(15))\n",
        "res = arb1.search(30)\n",
        "print(res.data)\n",
        "print(res.left.data)\n",
        "\n",
        "res = arb1.search(60)\n",
        "print(f\"El nodo es: { res.data }, hijo izquierdo { res.left.data }, hijo derecho {res.right.data} \\n\" )\n",
        "\n",
        "res = arb1.search( 30 )\n",
        "print(f\"El nodo es: {res.data}, hijo izquierdo {res.left.data}, hijo derecho {res.right.data} \\n\" )\n",
        "\n",
        "res = arb1.search( 40 )\n",
        "print(f\"El nodo es: {res.data}, hijo izquierdo {res.left.data}, hijo derecho {res.right.data} \\n\" )\n",
        "\n",
        "arb1.remove(55)\n",
        "print(\"Eliminando 55\")\n",
        "\n",
        "arb1.transversal()\n",
        "\n",
        "arb1.remove(20)\n",
        "print(\"Eliminando 20\")\n",
        "\n",
        "arb1.transversal()"
      ],
      "execution_count": 73,
      "outputs": [
        {
          "output_type": "stream",
          "name": "stdout",
          "text": [
            "15\n",
            "30\n",
            "35\n",
            "40\n",
            "55\n",
            "60\n",
            "80\n",
            "\n",
            "60\n",
            "30\n",
            "15\n",
            "40\n",
            "35\n",
            "55\n",
            "80\n",
            "\n",
            "15\n",
            "35\n",
            "55\n",
            "40\n",
            "30\n",
            "80\n",
            "60\n",
            "\n",
            "El dato no existe en el árbol\n",
            "None\n",
            "Encontrado 15\n",
            "<__main__.BinaryNode object at 0x7ff6d5f65bd0>\n",
            "Encontrado 30\n",
            "30\n",
            "15\n",
            "Encontrado 60\n",
            "El nodo es: 60, hijo izquierdo 30, hijo derecho 80 \n",
            "\n",
            "Encontrado 30\n",
            "El nodo es: 30, hijo izquierdo 15, hijo derecho 40 \n",
            "\n",
            "Encontrado 40\n",
            "El nodo es: 40, hijo izquierdo 35, hijo derecho 55 \n",
            "\n",
            "\n",
            "Encontrado 55\n",
            "Eliminando 55\n",
            "15\n",
            "35\n",
            "40\n",
            "30\n",
            "80\n",
            "60\n",
            "\n",
            "Caso base\n",
            "Eliminando 20\n",
            "15\n",
            "35\n",
            "40\n",
            "30\n",
            "80\n",
            "60\n",
            "\n"
          ]
        }
      ]
    },
    {
      "cell_type": "code",
      "metadata": {
        "id": "xFgx_UB4jn8D"
      },
      "source": [
        "arb1 = BinarySearchNode()\n",
        "arb1.insert(60)\n",
        "arb1.insert(30)\n",
        "arb1.insert(15)\n",
        "arb1.insert(40)\n",
        "arb1.insert(80)\n",
        "arb1.transversal(\"posorden\")\n",
        "arb1.transversal(\"preorden\")\n",
        "arb1.transversal(\"inorden\")\n",
        "print(arb1.search(110))\n",
        "print(arb1.search(15))\n",
        "res = arb1.search(30)\n",
        "print(res.data)\n",
        "print(res.left.data)"
      ],
      "execution_count": null,
      "outputs": []
    }
  ]
}