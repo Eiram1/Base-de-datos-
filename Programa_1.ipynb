{
  "nbformat": 4,
  "nbformat_minor": 0,
  "metadata": {
    "colab": {
      "name": "Programa 1",
      "provenance": [],
      "collapsed_sections": []
    },
    "kernelspec": {
      "name": "python3",
      "display_name": "Python 3"
    },
    "language_info": {
      "name": "python"
    }
  },
  "cells": [
    {
      "cell_type": "code",
      "metadata": {
        "colab": {
          "base_uri": "https://localhost:8080/"
        },
        "id": "g9154Jhutr3i",
        "outputId": "cb81283d-58c4-4777-aad3-ee26d19d1738"
      },
      "source": [
        "num1 = \"*7555 123456\"\n",
        "ind_a = num1.find(\"*\")\n",
        "num1 = num1[ :ind_a]+ \"+52\" + num1 [ ind_a + 1::]\n",
        "print(num1.replace(\" \", \"\"))\n",
        "\n",
        "num2 = \"*7555123456\"\n",
        "ind_a = num2.find(\"*\")\n",
        "num2 = num2[ :ind_a]+ \"+52\" + num2 [ ind_a + 1::]\n",
        "print(num2.replace(\" \", \"\"))\n",
        "\n",
        "num3 = \"+52 7555 123456\"\n",
        "print(num3.replace(\" \", \"\"))\n",
        "\n",
        "num4 = \"*52 7555 123456\"\n",
        "ind_a = num4.find(\"*\")\n",
        "num4 = num4[ :ind_a]+ \"+\" + num4 [ ind_a + 1::]\n",
        "print(num4.replace(\" \", \"\"))\n",
        "\n",
        "num5 = \"*7555 123456\"\n",
        "ind_a = num5.find(\"*\")\n",
        "num5 = num5[ :ind_a]+ \"+52\" + num5 [ ind_a + 1::]\n",
        "print(num5.replace(\" \", \"\"))\n",
        "\n",
        "\n",
        "#No le encontré otra solucion en poniendolos en lista :((("
      ],
      "execution_count": 79,
      "outputs": [
        {
          "output_type": "stream",
          "name": "stdout",
          "text": [
            "+527555123456\n",
            "+527555123456\n",
            "+527555123456\n",
            "+527555123456\n",
            "+527555123456\n"
          ]
        }
      ]
    },
    {
      "cell_type": "code",
      "metadata": {
        "colab": {
          "base_uri": "https://localhost:8080/"
        },
        "id": "9IaGnrWtusSp",
        "outputId": "ebbc07c4-d227-4946-dc6d-d639b6f3f04d"
      },
      "source": [
        "help()"
      ],
      "execution_count": 80,
      "outputs": [
        {
          "output_type": "stream",
          "name": "stdout",
          "text": [
            "\n",
            "Welcome to Python 3.7's help utility!\n",
            "\n",
            "If this is your first time using Python, you should definitely check out\n",
            "the tutorial on the Internet at https://docs.python.org/3.7/tutorial/.\n",
            "\n",
            "Enter the name of any module, keyword, or topic to get help on writing\n",
            "Python programs and using Python modules.  To quit this help utility and\n",
            "return to the interpreter, just type \"quit\".\n",
            "\n",
            "To get a list of available modules, keywords, symbols, or topics, type\n",
            "\"modules\", \"keywords\", \"symbols\", or \"topics\".  Each module also comes\n",
            "with a one-line summary of what it does; to list the modules whose name\n",
            "or summary contain a given string such as \"spam\", type \"modules spam\".\n",
            "\n",
            "\n",
            "You are now leaving help and returning to the Python interpreter.\n",
            "If you want to ask for help on a particular object directly from the\n",
            "interpreter, you can type \"help(object)\".  Executing \"help('string')\"\n",
            "has the same effect as typing a particular string at the help> prompt.\n"
          ]
        }
      ]
    }
  ]
}