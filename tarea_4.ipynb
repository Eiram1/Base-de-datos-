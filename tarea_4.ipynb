{
  "nbformat": 4,
  "nbformat_minor": 0,
  "metadata": {
    "colab": {
      "name": "tarea 4.ipynb",
      "provenance": [],
      "authorship_tag": "ABX9TyM9XTmOr1Gxdj57p23xfJ/Y",
      "include_colab_link": true
    },
    "kernelspec": {
      "name": "python3",
      "display_name": "Python 3"
    },
    "language_info": {
      "name": "python"
    }
  },
  "cells": [
    {
      "cell_type": "markdown",
      "metadata": {
        "id": "view-in-github",
        "colab_type": "text"
      },
      "source": [
        "<a href=\"https://colab.research.google.com/github/Eiram1/Base-de-datos-/blob/master/tarea_4.ipynb\" target=\"_parent\"><img src=\"https://colab.research.google.com/assets/colab-badge.svg\" alt=\"Open In Colab\"/></a>"
      ]
    },
    {
      "cell_type": "code",
      "metadata": {
        "colab": {
          "base_uri": "https://localhost:8080/",
          "height": 126
        },
        "id": "6d6qaIB39l2R",
        "outputId": "c2746cae-d982-48e6-a791-09dd72f9bd55"
      },
      "source": [
        "info.set_item(1,3, new Persona(\"Jose\") )\n",
        "\n",
        "info.set_item(1,3, Persona(\"Jose\") )\n",
        "\n",
        "info.set_item(2,2, Persona(\"Diana\")\n",
        "\n",
        "print(info.get_row_size()) #3\n",
        "\n",
        "print(info.get_col_size()) #4\n",
        "print(info.get_item (2,2)) # estado de obj. Diana\n",
        "print( info.to_string())\n",
        "\n",
        "\n",
        "\n",
        "info.clear(Alumno(\"Maria\"))"
      ],
      "execution_count": null,
      "outputs": [
        {
          "output_type": "error",
          "ename": "SyntaxError",
          "evalue": "ignored",
          "traceback": [
            "\u001b[0;36m  File \u001b[0;32m\"<ipython-input-3-d92df3296159>\"\u001b[0;36m, line \u001b[0;32m3\u001b[0m\n\u001b[0;31m    info.set_item(1,3, new Persona(\"Jose\") )\u001b[0m\n\u001b[0m                                 ^\u001b[0m\n\u001b[0;31mSyntaxError\u001b[0m\u001b[0;31m:\u001b[0m invalid syntax\n"
          ]
        }
      ]
    },
    {
      "cell_type": "code",
      "metadata": {
        "colab": {
          "base_uri": "https://localhost:8080/"
        },
        "id": "JmLsSxkD9rjP",
        "outputId": "afb19a3f-a88b-4f7d-8d07-457d720f3725"
      },
      "source": [
        "class Array2D():\n",
        "  \n",
        "  def __init__(self, ren, col):\n",
        "    self.__columnas = col\n",
        "    self.__renglones = ren\n",
        "    self.__data = [[ 0 for i in range(col)]for i in range (ren)]\n",
        "\n",
        "  def to_string(self):\n",
        "    print(self.__data)\n",
        "    for i in range(self.__renglones):\n",
        "      print(self.__data[i])\n",
        "\n",
        "  def clear(self, dato):\n",
        "    for i in range (self.__renglones):\n",
        "      for x in range(self.__columnas):\n",
        "        self.__data[i][x] = dato\n",
        "\n",
        "  def get_row_size(self):\n",
        "    return (self.__renglones)\n",
        "\n",
        "  def get_col_size(self):\n",
        "    return (self.__columnas)\n",
        "  \n",
        "  def set_item(self,ren,col,dato):\n",
        "    self.__data[ren][col] = dato\n",
        "\n",
        "  def get_item(self,ren,col):\n",
        "    print(self.__data[ren][col])\n",
        "\n",
        "info = Array2D(3,4)\n",
        "info.clear(2)\n",
        "info.to_string()\n",
        "print(\"\")\n",
        "info.set_item(2,0,\"X\")\n",
        "info.to_string()\n",
        "array.get_item(2,0)"
      ],
      "execution_count": 79,
      "outputs": [
        {
          "output_type": "stream",
          "name": "stdout",
          "text": [
            "[[2, 2, 2, 2], [2, 2, 2, 2], [2, 2, 2, 2]]\n",
            "[2, 2, 2, 2]\n",
            "[2, 2, 2, 2]\n",
            "[2, 2, 2, 2]\n",
            "\n",
            "[[2, 2, 2, 2], [2, 2, 2, 2], ['X', 2, 2, 2]]\n",
            "[2, 2, 2, 2]\n",
            "[2, 2, 2, 2]\n",
            "['X', 2, 2, 2]\n",
            "X\n"
          ]
        }
      ]
    }
  ]
}